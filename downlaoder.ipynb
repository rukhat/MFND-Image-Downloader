{
 "cells": [
  {
   "cell_type": "code",
   "execution_count": null,
   "metadata": {},
   "outputs": [],
   "source": [
    "from time import sleep\n",
    "\n",
    "import requests\n",
    "from selenium import webdriver\n",
    "from webdriver_manager.chrome import ChromeDriverManager\n"
   ]
  },
  {
   "cell_type": "code",
   "execution_count": null,
   "metadata": {},
   "outputs": [],
   "source": [
    "# Install Chrome Driver for Selenium\n",
    "\n",
    "option = webdriver.ChromeOptions()\n",
    "option.add_argument('headless')\n",
    "driver = webdriver.Chrome(ChromeDriverManager().install(), options=option)\n"
   ]
  },
  {
   "cell_type": "code",
   "execution_count": null,
   "metadata": {},
   "outputs": [],
   "source": [
    "# Main URL\n",
    "\n",
    "site_URL = 'https://mfnd.similarity.eu/'\n",
    "driver.get(site_URL)\n"
   ]
  },
  {
   "cell_type": "code",
   "execution_count": null,
   "metadata": {},
   "outputs": [],
   "source": [
    "# Opening File 2 Images\n",
    "\n",
    "file2_xpath = '//*[@id=\"view2\"]/a'\n",
    "driver.find_element_by_xpath(file2_xpath).click()\n",
    "sleep(2)\n"
   ]
  },
  {
   "cell_type": "code",
   "execution_count": null,
   "metadata": {},
   "outputs": [],
   "source": [
    "# Downloading File 2 Images\n",
    "\n",
    "# Number of images in the folder is 3825 and each page has 10 images\n",
    "for i in range(3825 // 10):\n",
    "    li = driver.find_elements_by_tag_name('img')\n",
    "    for i in li:\n",
    "        print(i.get_attribute('src'))\n",
    "\n",
    "    # Last 3 images are thumbnails and are not needed\n",
    "    for i in li[:-3:]:\n",
    "        url = i.get_attribute('src')\n",
    "        print(url)\n",
    "        filename = url.split('/')[-1]\n",
    "        print(filename)\n",
    "        img_data = requests.get(url, allow_redirects=True).content\n",
    "        # Saved in subfolder 'images'\n",
    "        open('images/' + filename, 'wb').write(img_data)\n",
    "\n",
    "    # Clicking on the next page\n",
    "\n",
    "    try:\n",
    "        driver.find_element_by_xpath(\n",
    "            '/html/body/div[2]/div/table/tbody/tr[2]/td/table/tbody/tr[2]/td/table/tbody/tr/td[4]/img').click()\n",
    "        sleep(2)\n",
    "    except:\n",
    "        driver.quit()\n"
   ]
  },
  {
   "cell_type": "code",
   "execution_count": null,
   "metadata": {},
   "outputs": [],
   "source": []
  }
 ],
 "metadata": {
  "kernelspec": {
   "display_name": "Python 3.10.5 64-bit",
   "language": "python",
   "name": "python3"
  },
  "language_info": {
   "codemirror_mode": {
    "name": "ipython",
    "version": 3
   },
   "file_extension": ".py",
   "mimetype": "text/x-python",
   "name": "python",
   "nbconvert_exporter": "python",
   "pygments_lexer": "ipython3",
   "version": "3.10.5"
  },
  "orig_nbformat": 4,
  "vscode": {
   "interpreter": {
    "hash": "e7370f93d1d0cde622a1f8e1c04877d8463912d04d973331ad4851f04de6915a"
   }
  }
 },
 "nbformat": 4,
 "nbformat_minor": 2
}
